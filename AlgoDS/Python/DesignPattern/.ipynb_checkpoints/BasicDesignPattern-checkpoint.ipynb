{
 "cells": [
  {
   "cell_type": "code",
   "execution_count": 2,
   "metadata": {},
   "outputs": [],
   "source": [
    "# Singleton Pattern\n",
    "\n",
    "class Singleton(type):\n",
    "    _instances={}\n",
    "    \n",
    "    def __call__(cls,*args,**kwargs):\n",
    "        \n",
    "        if cls not in cls._instances:\n",
    "            cls._instances[cls]=super(Singleton,cls).__call__(*args,**kwargs)\n",
    "        # IF the init method needs to be called everytime class\n",
    "       # else:\n",
    "           # cls.__instances[cls].__init__(*args,**kwargs)\n",
    "        \n",
    "        return cls._instances[cls]\n",
    "    \n",
    "\n",
    "class Logger(metaclass=Singleton):\n",
    "    pass"
   ]
  },
  {
   "cell_type": "code",
   "execution_count": 3,
   "metadata": {},
   "outputs": [],
   "source": []
  },
  {
   "cell_type": "code",
   "execution_count": null,
   "metadata": {},
   "outputs": [],
   "source": []
  },
  {
   "cell_type": "code",
   "execution_count": 10,
   "metadata": {},
   "outputs": [],
   "source": [
    "#Decorator Pattern (Is more like AOP or aspect oriented programming, where you acn intercept)\n",
    "\n",
    "from functools import wraps\n",
    "\n",
    "def timeWrap(func):\n",
    "    \n",
    "    @wraps(func)\n",
    "    def wrapper (*args,**kwargs):\n",
    "        print('Before function call')\n",
    "        value=func(*args,**kwargs)\n",
    "        print(value)\n",
    "        print('After function call')\n",
    "        \n",
    "        return value\n",
    "    return wrapper\n",
    "\n",
    "\n",
    "@timeWrap\n",
    "def testHello(name):\n",
    "    \n",
    "    return 'hello '+name"
   ]
  },
  {
   "cell_type": "code",
   "execution_count": 11,
   "metadata": {},
   "outputs": [
    {
     "name": "stdout",
     "output_type": "stream",
     "text": [
      "Before function call\n",
      "hello Kuntal\n",
      "After function call\n"
     ]
    },
    {
     "data": {
      "text/plain": [
       "'hello Kuntal'"
      ]
     },
     "execution_count": 11,
     "metadata": {},
     "output_type": "execute_result"
    }
   ],
   "source": [
    "testHello('Kuntal')"
   ]
  },
  {
   "cell_type": "code",
   "execution_count": 16,
   "metadata": {},
   "outputs": [],
   "source": [
    "#Unwrapped decoration\n",
    "testUnwrap=testHello.__wrapped__"
   ]
  },
  {
   "cell_type": "code",
   "execution_count": 17,
   "metadata": {},
   "outputs": [
    {
     "data": {
      "text/plain": [
       "'hello Kuntal'"
      ]
     },
     "execution_count": 17,
     "metadata": {},
     "output_type": "execute_result"
    }
   ],
   "source": [
    "testUnwrap('Kuntal')"
   ]
  },
  {
   "cell_type": "code",
   "execution_count": null,
   "metadata": {},
   "outputs": [],
   "source": []
  }
 ],
 "metadata": {
  "kernelspec": {
   "display_name": "Python 3",
   "language": "python",
   "name": "python3"
  },
  "language_info": {
   "codemirror_mode": {
    "name": "ipython",
    "version": 3
   },
   "file_extension": ".py",
   "mimetype": "text/x-python",
   "name": "python",
   "nbconvert_exporter": "python",
   "pygments_lexer": "ipython3",
   "version": "3.6.4"
  }
 },
 "nbformat": 4,
 "nbformat_minor": 2
}
