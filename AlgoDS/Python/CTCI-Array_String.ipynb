{
 "cells": [
  {
   "cell_type": "code",
   "execution_count": 20,
   "metadata": {},
   "outputs": [
    {
     "name": "stderr",
     "output_type": "stream",
     "text": [
      ".\n",
      "----------------------------------------------------------------------\n",
      "Ran 1 test in 0.002s\n",
      "\n",
      "OK\n"
     ]
    }
   ],
   "source": [
    "## Implement an algorithm to determine if a string has all unique characters.\n",
    "\n",
    "\n",
    "def isUnique(value):\n",
    "    letters={}\n",
    "    for character in value:\n",
    "        if character in letters:\n",
    "            return False\n",
    "        letters[character]= True\n",
    "    return True\n",
    "\n",
    "\n",
    "\n",
    "# TestCase\n",
    "\n",
    "import unittest\n",
    "\n",
    "class TestUniqueu(unittest.TestCase):\n",
    "    dataT = [('abcd'), ('s4fad'), (''),('Kuntal')]\n",
    "    dataF = [('23ds2'), ('hb 627jh=j ()')]\n",
    "\n",
    "    \n",
    "    def testUnique(self):\n",
    "        \n",
    "        for data in self.dataT:\n",
    "            self.assertEqual(isUnique(data),True)\n",
    "            \n",
    "        for data in self.dataF:\n",
    "            self.assertEqual(isUnique(data),False)\n",
    "    \n",
    "    \n",
    "if __name__ == \"__main__\":\n",
    "    unittest.main(argv=['first-arg-is-ignored'], exit=False)"
   ]
  },
  {
   "cell_type": "code",
   "execution_count": 30,
   "metadata": {},
   "outputs": [
    {
     "name": "stderr",
     "output_type": "stream",
     "text": [
      "...\n",
      "----------------------------------------------------------------------\n",
      "Ran 3 tests in 0.006s\n",
      "\n",
      "OK\n"
     ]
    }
   ],
   "source": [
    "#Given two strings, write a method to decide if one is a permutation of the other\n",
    "\n",
    "from collections import Counter\n",
    "\n",
    "def checkPermutation(str1,str2):\n",
    "    \n",
    "    if len(str1) != len(str2):\n",
    "        return False\n",
    "    \n",
    "    counter= Counter()\n",
    "    \n",
    "    for c in str1:\n",
    "        \n",
    "        counter[c] +=1\n",
    "    \n",
    "    for c in str2:\n",
    "        \n",
    "        if counter[c]==0:\n",
    "            return False\n",
    "        counter[c]-=1\n",
    "        \n",
    "    return True\n",
    "\n",
    "# Testing\n",
    "\n",
    "class TestCheckCP(unittest.TestCase):\n",
    "    dataT = (\n",
    "        ('abcd', 'bacd'),\n",
    "        ('3563476', '7334566'),\n",
    "        ('wef34f', 'wffe34'),\n",
    "    )\n",
    "    dataF = (\n",
    "        ('abcd', 'd2cba'),\n",
    "        ('2354', '1234'),\n",
    "        ('dcw4f', 'dcw5f'),\n",
    "    )\n",
    "\n",
    "    def test_cp(self):\n",
    "        # true check\n",
    "        for test_strings in self.dataT:\n",
    "            result = checkPermutation(*test_strings)\n",
    "            self.assertTrue(result)\n",
    "        # false check\n",
    "        for test_strings in self.dataF:\n",
    "            result = checkPermutation(*test_strings)\n",
    "            self.assertFalse(result)\n",
    "\n",
    "\n",
    "        \n",
    "if __name__ == \"__main__\":\n",
    "    unittest.main(argv=['first-arg-is-ignored'], exit=False)        "
   ]
  },
  {
   "cell_type": "code",
   "execution_count": 113,
   "metadata": {},
   "outputs": [
    {
     "name": "stderr",
     "output_type": "stream",
     "text": [
      "....\n",
      "----------------------------------------------------------------------\n",
      "Ran 4 tests in 0.004s\n",
      "\n",
      "OK\n"
     ]
    }
   ],
   "source": [
    "# Replace spaces in the middle of a string with \"%20\" assuming the end of the \n",
    "# string contains twice as many spaces as are in the middle.\n",
    "\n",
    "def urlify(string):\n",
    "    return string.strip().replace(\" \", \"%20\")\n",
    "\n",
    "def urlify2(string):\n",
    "    \n",
    "    new_index=len(string)\n",
    "    print(new_index)\n",
    "    \n",
    "    for i in reversed(range(new_index)):\n",
    "        \n",
    "        if string[i]==' ':\n",
    "            string[new_index - 3:new_index]=='%20'\n",
    "            new_index -=3\n",
    "        \n",
    "        else:\n",
    "            string[new_index -1]==string[i]\n",
    "            new_index -=1\n",
    "    print(string)\n",
    "    print('much%20ado%20about%20nothing')\n",
    "    return string\n",
    "\n",
    "\n",
    "#Testing\n",
    "\n",
    "class TestUrlify(unittest.TestCase):\n",
    "    '''Test Cases'''\n",
    "    # Using lists because Python strings are immutable\n",
    "    data = ['much ado about nothing      ']\n",
    "    def test_urlify(self):\n",
    "        for test_string in self.data:\n",
    "            actual = urlify(test_string)\n",
    "            self.assertEqual(actual, 'much%20ado%20about%20nothing')\n",
    "\n",
    "            \n",
    "if __name__ == \"__main__\":\n",
    "    unittest.main(argv=['first-arg-is-ignored'], exit=False)        "
   ]
  },
  {
   "cell_type": "code",
   "execution_count": 64,
   "metadata": {},
   "outputs": [
    {
     "name": "stdout",
     "output_type": "stream",
     "text": [
      "2\n",
      "2\n",
      "2\n",
      "1\n"
     ]
    },
    {
     "data": {
      "text/plain": [
       "True"
      ]
     },
     "execution_count": 64,
     "metadata": {},
     "output_type": "execute_result"
    }
   ],
   "source": [
    "#Determine whether or not a string is a permutation of a palindrome\n",
    "\n",
    "from collections import Counter\n",
    "def is_palindrome_permutation(string):\n",
    "    counter = Counter()\n",
    "    for letter in string.replace(\" \", \"\").lower():\n",
    "        counter[letter] += 1\n",
    "    \n",
    "    odd_counts = 0\n",
    "    for count in counter.values():\n",
    "        \n",
    "        odd_counts += count % 2\n",
    "    if odd_counts > 1:\n",
    "        return False\n",
    "    \n",
    "    return True\n",
    "\n",
    "#Testing permutations: \"taco cat\", \"atco eta\".\n",
    "is_palindrome_permutation('Tact Coa')"
   ]
  },
  {
   "cell_type": "code",
   "execution_count": 105,
   "metadata": {},
   "outputs": [],
   "source": [
    "# rotates a NxN matrix 90 degrees anti-clockwise\n",
    "\n",
    "def rotate_matrix(matrix):\n",
    "    \n",
    "    N = len(matrix)\n",
    "   \n",
    "    for x in range(N // 2):\n",
    "        \n",
    "        for y in range(x, N-x-1):\n",
    "            \n",
    "            # save top\n",
    "            top = matrix[x][y]\n",
    "\n",
    "            \n",
    "            matrix[x][y] = matrix[y][N-1-x]\n",
    "\n",
    "            \n",
    "            matrix[y][N-1-x] = matrix[N-1-x][N-1-y]\n",
    "\n",
    "            \n",
    "            matrix[N-1-x][N-1-y] = matrix[N-1-y][x]\n",
    "\n",
    "           \n",
    "            matrix[N-1-y][x] = top\n",
    "    return matrix\n"
   ]
  },
  {
   "cell_type": "code",
   "execution_count": 106,
   "metadata": {},
   "outputs": [
    {
     "data": {
      "text/plain": [
       "[[5, 10, 15, 20, 25],\n",
       " [4, 9, 14, 19, 24],\n",
       " [3, 8, 13, 18, 23],\n",
       " [2, 7, 12, 17, 22],\n",
       " [1, 6, 11, 16, 21]]"
      ]
     },
     "execution_count": 106,
     "metadata": {},
     "output_type": "execute_result"
    }
   ],
   "source": [
    "rotate_matrix([[1, 2, 3, 4, 5],[6, 7, 8, 9, 10],\n",
    "            [11, 12, 13, 14, 15],\n",
    "            [16, 17, 18, 19, 20],\n",
    "            [21, 22, 23, 24, 25]])"
   ]
  },
  {
   "cell_type": "code",
   "execution_count": 112,
   "metadata": {},
   "outputs": [
    {
     "data": {
      "text/plain": [
       "'a2b1c5a3b1'"
      ]
     },
     "execution_count": 112,
     "metadata": {},
     "output_type": "execute_result"
    }
   ],
   "source": [
    "#Implement a method to perform basic string compression \n",
    "#using the counts of repeated characters.\n",
    "\n",
    "def string_compress(string):\n",
    "    \n",
    "    compressed=[]\n",
    "    counter=0\n",
    "    \n",
    "    for i in range(len(string)):\n",
    "        \n",
    "        if i!=0 and string[i] !=string[i-1]:\n",
    "            compressed.append(string[i-1]+str(counter))\n",
    "            counter=0\n",
    "        counter +=1\n",
    "     #add the last character   \n",
    "    compressed.append(string[-1]+str(counter))\n",
    "        \n",
    "    return min(string,''.join(compressed),key=len)\n",
    "        \n",
    "#Testing        \n",
    "string_compress('aabcccccaaab') \n",
    "#string_compress('abcdef') \n"
   ]
  },
  {
   "cell_type": "code",
   "execution_count": 100,
   "metadata": {},
   "outputs": [
    {
     "data": {
      "text/plain": [
       "False"
      ]
     },
     "execution_count": 100,
     "metadata": {},
     "output_type": "execute_result"
    }
   ],
   "source": [
    "#Determine whether or not a given string is a rotation of another string.\n",
    "\n",
    "def isSubstring(string,sub):\n",
    "    \n",
    "    return string.find(sub)!= -1\n",
    "\n",
    "def stringRotation(str1,str2):\n",
    "    \n",
    "    if len(str1)!=len(str2):\n",
    "        return False\n",
    "    \n",
    "    return isSubstring(str1+str1,str2)\n",
    "\n",
    "stringRotation('waterbottle','erbottlewat')"
   ]
  },
  {
   "cell_type": "code",
   "execution_count": 111,
   "metadata": {},
   "outputs": [
    {
     "data": {
      "text/plain": [
       "[[0, 0, 0, 0, 0],\n",
       " [0, 0, 0, 0, 0],\n",
       " [11, 0, 13, 14, 0],\n",
       " [0, 0, 0, 0, 0],\n",
       " [21, 0, 23, 24, 0]]"
      ]
     },
     "execution_count": 111,
     "metadata": {},
     "output_type": "execute_result"
    }
   ],
   "source": [
    "#Write an algorithm such that if an element in an MxN matrix is 0, \n",
    "# its entire row and column are set to 0.\n",
    "\n",
    "def nullify_row(matrix,row):\n",
    "    \n",
    "    for i in range(len(matrix[0])):\n",
    "        matrix[row][i]=0\n",
    "        \n",
    "def nullify_col(matrix,col):\n",
    "    \n",
    "    for i in range(len(matrix)):\n",
    "        matrix[i][col]=0\n",
    "\n",
    "def zero_matrix(mat):\n",
    "    \n",
    "    rows=[]\n",
    "    cols=[]\n",
    "    \n",
    "    m=len(mat)\n",
    "    n=len(mat[0])\n",
    "    \n",
    "    for i in range(m):\n",
    "        for j in range(n):\n",
    "            if mat[i][j]== 0:\n",
    "                rows.append(i)\n",
    "                cols.append(j)\n",
    "    \n",
    "    for row in rows:\n",
    "        nullify_row(mat,row)\n",
    "        \n",
    "    for col in cols:\n",
    "        nullify_col(mat,col)\n",
    "        \n",
    "    return mat\n",
    "    \n",
    "                \n",
    "zero_matrix([[1, 2, 3, 4, 0],\n",
    "            [6, 0, 8, 9, 10],\n",
    "            [11, 12, 13, 14, 15],\n",
    "            [16, 0, 18, 19, 20],\n",
    "            [21, 22, 23, 24, 25]])   \n"
   ]
  },
  {
   "cell_type": "code",
   "execution_count": null,
   "metadata": {},
   "outputs": [],
   "source": []
  }
 ],
 "metadata": {
  "kernelspec": {
   "display_name": "Python 3",
   "language": "python",
   "name": "python3"
  },
  "language_info": {
   "codemirror_mode": {
    "name": "ipython",
    "version": 3
   },
   "file_extension": ".py",
   "mimetype": "text/x-python",
   "name": "python",
   "nbconvert_exporter": "python",
   "pygments_lexer": "ipython3",
   "version": "3.6.4"
  }
 },
 "nbformat": 4,
 "nbformat_minor": 2
}
